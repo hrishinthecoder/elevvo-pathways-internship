{
 "cells": [
  {
   "cell_type": "markdown",
   "id": "d64402c4",
   "metadata": {},
   "source": [
    "# Customer Segmentation with RFM Analysis"
   ]
  },
  {
   "cell_type": "markdown",
   "id": "4893f774",
   "metadata": {},
   "source": [
    "**Dataset**: Synthetic Online Retail (structure matches UCI).  \n",
    "**Stack**: pandas, numpy, matplotlib (seaborn optional).  \n",
    "**Flow**: Load → Clean/Validate → RFM → Score → Segment → Visualize → Insights."
   ]
  },
  {
   "cell_type": "markdown",
   "id": "11a023b3",
   "metadata": {},
   "source": [
    "## 1. Setup"
   ]
  },
  {
   "cell_type": "code",
   "execution_count": null,
   "id": "3942d9a2",
   "metadata": {},
   "outputs": [],
   "source": [
    "import pandas as pd\n",
    "import numpy as np\n",
    "import matplotlib.pyplot as plt\n",
    "import seaborn as sns  # optional\n",
    "pd.set_option('display.max_columns', 50)"
   ]
  },
  {
   "cell_type": "markdown",
   "id": "793a91e9",
   "metadata": {},
   "source": [
    "## 2. Load Data"
   ]
  },
  {
   "cell_type": "code",
   "execution_count": null,
   "id": "dad49d99",
   "metadata": {},
   "outputs": [],
   "source": [
    "df = pd.read_csv(r\"/mnt/data/online_retail_synthetic.csv\", parse_dates=[\"InvoiceDate\"])\n",
    "df.head()"
   ]
  },
  {
   "cell_type": "markdown",
   "id": "c15c27f5",
   "metadata": {},
   "source": [
    "## 3. Feature Engineering (Amount) & Reference Date"
   ]
  },
  {
   "cell_type": "code",
   "execution_count": null,
   "id": "3eb94869",
   "metadata": {},
   "outputs": [],
   "source": [
    "df['Amount'] = df['Quantity'] * df['UnitPrice']\n",
    "ref_date = df['InvoiceDate'].max() + pd.Timedelta(days=1)"
   ]
  },
  {
   "cell_type": "markdown",
   "id": "3d9f403f",
   "metadata": {},
   "source": [
    "## 4. Compute RFM"
   ]
  },
  {
   "cell_type": "code",
   "execution_count": null,
   "id": "1b2a86ba",
   "metadata": {},
   "outputs": [],
   "source": [
    "rfm = (\n",
    "    df.groupby('CustomerID').agg(\n",
    "        Recency=('InvoiceDate', lambda x: (ref_date - x.max()).days),\n",
    "        Frequency=('InvoiceNo', pd.Series.nunique),\n",
    "        Monetary=('Amount', 'sum'),\n",
    "        Country=('Country', lambda x: x.mode().iat[0] if not x.mode().empty else x.iloc[0])\n",
    "    )\n",
    ").reset_index()\n",
    "rfm.head()"
   ]
  },
  {
   "cell_type": "markdown",
   "id": "9e976ce6",
   "metadata": {},
   "source": [
    "## 5. Scoring (1–5)"
   ]
  },
  {
   "cell_type": "code",
   "execution_count": null,
   "id": "86f36f4b",
   "metadata": {},
   "outputs": [],
   "source": [
    "def score_by_quantiles(s, q=5, reverse=False):\n",
    "    try:\n",
    "        labels = list(range(1, q+1))\n",
    "        if reverse:\n",
    "            labels = labels[::-1]\n",
    "        return pd.qcut(s.rank(method=\"first\"), q, labels=labels)\n",
    "    except Exception:\n",
    "        import numpy as np\n",
    "        bins = np.linspace(s.min()-1e-9, s.max()+1e-9, q+1)\n",
    "        out = pd.cut(s, bins=bins, labels=list(range(1, q+1)), include_lowest=True)\n",
    "        return out if not reverse else out.cat.rename_categories(lambda x: str(q+1-int(x)))\n",
    "\n",
    "rfm['R_Score'] = score_by_quantiles(rfm['Recency'], q=5, reverse=True).astype(int)\n",
    "rfm['F_Score'] = score_by_quantiles(rfm['Frequency'], q=5, reverse=False).astype(int)\n",
    "rfm['M_Score'] = score_by_quantiles(rfm['Monetary'], q=5, reverse=False).astype(int)\n",
    "rfm.head()"
   ]
  },
  {
   "cell_type": "markdown",
   "id": "618f8fd4",
   "metadata": {},
   "source": [
    "## 6. Segmentation"
   ]
  },
  {
   "cell_type": "code",
   "execution_count": null,
   "id": "cf4d025c",
   "metadata": {},
   "outputs": [],
   "source": [
    "def assign_segment(row):\n",
    "    R, F, M = row['R_Score'], row['F_Score'], row['M_Score']\n",
    "    if R >= 4 and F >= 4 and M >= 4:\n",
    "        return 'Champions'\n",
    "    if R >= 4 and F >= 3:\n",
    "        return 'Loyal Customers'\n",
    "    if R >= 4 and F >= 2 and M >= 2:\n",
    "        return 'Potential Loyalists'\n",
    "    if R == 5 and F == 1:\n",
    "        return 'Recent Customers'\n",
    "    if R == 4 and F == 1:\n",
    "        return 'Promising'\n",
    "    if R == 3 and F >= 2:\n",
    "        return 'Needs Attention'\n",
    "    if R <= 2 and F >= 4:\n",
    "        return \"Can't Lose Them\"\n",
    "    if R <= 2 and F >= 3:\n",
    "        return 'At Risk'\n",
    "    if R == 1 and F == 1:\n",
    "        return 'Lost'\n",
    "    if R <= 2 and F <= 2 and M <= 2:\n",
    "        return 'Hibernating'\n",
    "    return 'Others'\n",
    "\n",
    "rfm['Segment'] = rfm.apply(assign_segment, axis=1)\n",
    "rfm.head()"
   ]
  },
  {
   "cell_type": "markdown",
   "id": "2a54d9fb",
   "metadata": {},
   "source": [
    "## 7. Visualizations"
   ]
  },
  {
   "cell_type": "code",
   "execution_count": null,
   "id": "c14c5ac5",
   "metadata": {},
   "outputs": [],
   "source": [
    "seg_counts = rfm['Segment'].value_counts().sort_values(ascending=False)\n",
    "plt.figure(figsize=(8,5))\n",
    "seg_counts.plot(kind='bar')\n",
    "plt.title('Customer Segments (Count)')\n",
    "plt.xlabel('Segment')\n",
    "plt.ylabel('Number of Customers')\n",
    "plt.xticks(rotation=45, ha='right')\n",
    "plt.tight_layout()\n",
    "plt.show()"
   ]
  },
  {
   "cell_type": "code",
   "execution_count": null,
   "id": "9dd751b6",
   "metadata": {},
   "outputs": [],
   "source": [
    "pivot_m = rfm.pivot_table(index='R_Score', columns='F_Score', values='Monetary', aggfunc='mean')\n",
    "plt.figure(figsize=(6,5))\n",
    "plt.imshow(pivot_m.values, aspect='auto')\n",
    "plt.title('Avg Monetary by R and F')\n",
    "plt.xlabel('F_Score')\n",
    "plt.ylabel('R_Score')\n",
    "plt.colorbar()\n",
    "plt.xticks(ticks=range(pivot_m.shape[1]), labels=list(pivot_m.columns))\n",
    "plt.yticks(ticks=range(pivot_m.shape[0]), labels=list(pivot_m.index))\n",
    "plt.tight_layout()\n",
    "plt.show()"
   ]
  },
  {
   "cell_type": "code",
   "execution_count": null,
   "id": "d2249f08",
   "metadata": {},
   "outputs": [],
   "source": [
    "df_with_seg = df.merge(rfm[['CustomerID','Segment']], on='CustomerID', how='left')\n",
    "rev_by_seg = df_with_seg.groupby('Segment')['Amount'].sum().sort_values(ascending=False)\n",
    "plt.figure(figsize=(8,5))\n",
    "rev_by_seg.plot(kind='bar')\n",
    "plt.title('Revenue by Segment')\n",
    "plt.xlabel('Segment')\n",
    "plt.ylabel('Total Revenue')\n",
    "plt.xticks(rotation=45, ha='right')\n",
    "plt.tight_layout()\n",
    "plt.show()"
   ]
  },
  {
   "cell_type": "markdown",
   "id": "ecb937ac",
   "metadata": {},
   "source": [
    "## 8. Insights"
   ]
  },
  {
   "cell_type": "markdown",
   "id": "988afa81",
   "metadata": {},
   "source": [
    "- Champions: VIP care and exclusives\n",
    "- Loyal: reward and referral programs\n",
    "- Potential Loyalists: targeted cross/upsell\n",
    "- At Risk/Can't Lose: win-back incentives\n",
    "- Hibernating/Lost: low-cost touches and feedback"
   ]
  }
 ],
 "metadata": {},
 "nbformat": 4,
 "nbformat_minor": 5
}
